{
 "cells": [
  {
   "cell_type": "code",
   "execution_count": 1,
   "metadata": {},
   "outputs": [],
   "source": [
    "import folium\n",
    "import pandas as pd\n",
    "import numpy as np\n",
    "from folium.plugins import MarkerCluster, LocateControl, Fullscreen"
   ]
  },
  {
   "cell_type": "code",
   "execution_count": 7,
   "metadata": {},
   "outputs": [],
   "source": [
    "hou_coords = (29.7604, -95.3698)"
   ]
  },
  {
   "cell_type": "code",
   "execution_count": 3,
   "metadata": {},
   "outputs": [],
   "source": [
    "# Scratch work coords\n",
    "coords = [[38.7, -122], [38, -121], [37.8, -122.27], [37.5, -122.33], [37.8, -122.1], [38.7, -123.4], [40.1, -122]\n",
    "          , [38.2, -123.1], [37, -120.5]]\n",
    "\n",
    "df = pd.DataFrame(coords, columns = [\"x\", \"y\"])\n",
    "\n",
    "df['class'] = [1, 2, 3, 1, 2, 3, 1, 2, 3]\n",
    "df['size'] = [13, 9, 9, 11, 30, 5, 8, 17, 11]\n",
    "df['tweet'] = ['a', 'b', 'c', 'd', 'e', 'f', 'g', 'h', 'i']\n",
    "\n",
    "\n"
   ]
  },
  {
   "cell_type": "code",
   "execution_count": 10,
   "metadata": {},
   "outputs": [
    {
     "name": "stderr",
     "output_type": "stream",
     "text": [
      "C:\\Users\\Ishan\\Anaconda3\\lib\\site-packages\\IPython\\core\\interactiveshell.py:3057: DtypeWarning: Columns (1) have mixed types. Specify dtype option on import or set low_memory=False.\n",
      "  interactivity=interactivity, compiler=compiler, result=result)\n"
     ]
    }
   ],
   "source": [
    "tweets = pd.read_csv('../datasets/df_combined.csv')"
   ]
  },
  {
   "cell_type": "code",
   "execution_count": 26,
   "metadata": {},
   "outputs": [],
   "source": [
    "idx = [265179, 267654, 267451, 267422, 265192,265161, 265146, 265145]\n",
    "address = ['9407 Cranleigh Ct. Houston 77096', '4724 Amalie St Houston',\n",
    "           '8015 Serenity Court Houston, TX', '5400 Bayou Dr. Dickson, TX','3226 Ave G Houston',\n",
    "           'Big Bend Avenue, 39th St., Port Arthur','340 West 17th St. Port Arthur, TX 77640',\n",
    "          '3605 Jimmy Johnson Blvd Apt. 1002 Port Arthur TX 77642']\n",
    "lat = ['29.6784058','29.8551516', '29.465968099', '29.6948069', '29.4494273','29.9147006', '29.8748434', '29.91' ]\n",
    "lng = ['-95.4633444','-95.323505099',  '-95.059360599', '-95.422081499', '-95.0609667', '-93.9485301',\n",
    "      '-93.9523373999999', '-93.9399']"
   ]
  },
  {
   "cell_type": "code",
   "execution_count": 27,
   "metadata": {},
   "outputs": [],
   "source": [
    "lat = [float(l) for l in lat]\n",
    "lng = [float(l) for l in lng]"
   ]
  },
  {
   "cell_type": "code",
   "execution_count": 29,
   "metadata": {},
   "outputs": [],
   "source": [
    "add_tweets = tweets.iloc[idx]"
   ]
  },
  {
   "cell_type": "code",
   "execution_count": 30,
   "metadata": {},
   "outputs": [
    {
     "name": "stdout",
     "output_type": "stream",
     "text": [
      "8\n",
      "8\n",
      "8\n",
      "8\n"
     ]
    }
   ],
   "source": [
    "print(len(idx))\n",
    "print(len(address))\n",
    "print(len(lat))\n",
    "print(len(lng))\n",
    "      "
   ]
  },
  {
   "cell_type": "code",
   "execution_count": 32,
   "metadata": {},
   "outputs": [
    {
     "name": "stderr",
     "output_type": "stream",
     "text": [
      "C:\\Users\\Ishan\\Anaconda3\\lib\\site-packages\\ipykernel_launcher.py:1: SettingWithCopyWarning: \n",
      "A value is trying to be set on a copy of a slice from a DataFrame.\n",
      "Try using .loc[row_indexer,col_indexer] = value instead\n",
      "\n",
      "See the caveats in the documentation: http://pandas.pydata.org/pandas-docs/stable/user_guide/indexing.html#returning-a-view-versus-a-copy\n",
      "  \"\"\"Entry point for launching an IPython kernel.\n",
      "C:\\Users\\Ishan\\Anaconda3\\lib\\site-packages\\ipykernel_launcher.py:2: SettingWithCopyWarning: \n",
      "A value is trying to be set on a copy of a slice from a DataFrame.\n",
      "Try using .loc[row_indexer,col_indexer] = value instead\n",
      "\n",
      "See the caveats in the documentation: http://pandas.pydata.org/pandas-docs/stable/user_guide/indexing.html#returning-a-view-versus-a-copy\n",
      "  \n",
      "C:\\Users\\Ishan\\Anaconda3\\lib\\site-packages\\ipykernel_launcher.py:3: SettingWithCopyWarning: \n",
      "A value is trying to be set on a copy of a slice from a DataFrame.\n",
      "Try using .loc[row_indexer,col_indexer] = value instead\n",
      "\n",
      "See the caveats in the documentation: http://pandas.pydata.org/pandas-docs/stable/user_guide/indexing.html#returning-a-view-versus-a-copy\n",
      "  This is separate from the ipykernel package so we can avoid doing imports until\n"
     ]
    }
   ],
   "source": [
    "add_tweets['address'] = address\n",
    "add_tweets['lat'] = lat\n",
    "add_tweets['lon'] = lng"
   ]
  },
  {
   "cell_type": "code",
   "execution_count": 33,
   "metadata": {},
   "outputs": [
    {
     "data": {
      "text/html": [
       "<div>\n",
       "<style scoped>\n",
       "    .dataframe tbody tr th:only-of-type {\n",
       "        vertical-align: middle;\n",
       "    }\n",
       "\n",
       "    .dataframe tbody tr th {\n",
       "        vertical-align: top;\n",
       "    }\n",
       "\n",
       "    .dataframe thead th {\n",
       "        text-align: right;\n",
       "    }\n",
       "</style>\n",
       "<table border=\"1\" class=\"dataframe\">\n",
       "  <thead>\n",
       "    <tr style=\"text-align: right;\">\n",
       "      <th></th>\n",
       "      <th>date</th>\n",
       "      <th>id</th>\n",
       "      <th>tweet</th>\n",
       "      <th>address</th>\n",
       "      <th>lat</th>\n",
       "      <th>lon</th>\n",
       "    </tr>\n",
       "  </thead>\n",
       "  <tbody>\n",
       "    <tr>\n",
       "      <td>265179</td>\n",
       "      <td>27 Aug 2017</td>\n",
       "      <td>/MariaLauraQd/status/901941415592243202</td>\n",
       "      <td>@houstonpolice #HarveyRescue #HarveySOS 9407 C...</td>\n",
       "      <td>9407 Cranleigh Ct. Houston 77096</td>\n",
       "      <td>29.678406</td>\n",
       "      <td>-95.463344</td>\n",
       "    </tr>\n",
       "    <tr>\n",
       "      <td>267654</td>\n",
       "      <td>27 Aug 2017</td>\n",
       "      <td>/JBaileysMom/status/901991093281140736</td>\n",
       "      <td>I've got a scared friend at 4724 Amalie St. pl...</td>\n",
       "      <td>4724 Amalie St Houston</td>\n",
       "      <td>29.855152</td>\n",
       "      <td>-95.323505</td>\n",
       "    </tr>\n",
       "    <tr>\n",
       "      <td>267451</td>\n",
       "      <td>27 Aug 2017</td>\n",
       "      <td>/Thedockta/status/901839981026701315</td>\n",
       "      <td>My FIL Frank Emmitte is trapped 3226 Ave G wit...</td>\n",
       "      <td>8015 Serenity Court Houston, TX</td>\n",
       "      <td>29.465968</td>\n",
       "      <td>-95.059361</td>\n",
       "    </tr>\n",
       "    <tr>\n",
       "      <td>267422</td>\n",
       "      <td>27 Aug 2017</td>\n",
       "      <td>/MarianneM67/status/901930772885622787</td>\n",
       "      <td>PLEASE SEND HELP AND RETWEET, Kristi Hammerly...</td>\n",
       "      <td>5400 Bayou Dr. Dickson, TX</td>\n",
       "      <td>29.694807</td>\n",
       "      <td>-95.422081</td>\n",
       "    </tr>\n",
       "    <tr>\n",
       "      <td>265192</td>\n",
       "      <td>27 Aug 2017</td>\n",
       "      <td>/RaeRoca/status/901836603211042822</td>\n",
       "      <td>A mom trapped in #HoustonFloods plz help:5400 ...</td>\n",
       "      <td>3226 Ave G Houston</td>\n",
       "      <td>29.449427</td>\n",
       "      <td>-95.060967</td>\n",
       "    </tr>\n",
       "  </tbody>\n",
       "</table>\n",
       "</div>"
      ],
      "text/plain": [
       "               date                                       id  \\\n",
       "265179  27 Aug 2017  /MariaLauraQd/status/901941415592243202   \n",
       "267654  27 Aug 2017   /JBaileysMom/status/901991093281140736   \n",
       "267451  27 Aug 2017     /Thedockta/status/901839981026701315   \n",
       "267422  27 Aug 2017   /MarianneM67/status/901930772885622787   \n",
       "265192  27 Aug 2017       /RaeRoca/status/901836603211042822   \n",
       "\n",
       "                                                    tweet  \\\n",
       "265179  @houstonpolice #HarveyRescue #HarveySOS 9407 C...   \n",
       "267654  I've got a scared friend at 4724 Amalie St. pl...   \n",
       "267451  My FIL Frank Emmitte is trapped 3226 Ave G wit...   \n",
       "267422   PLEASE SEND HELP AND RETWEET, Kristi Hammerly...   \n",
       "265192  A mom trapped in #HoustonFloods plz help:5400 ...   \n",
       "\n",
       "                                 address        lat        lon  \n",
       "265179  9407 Cranleigh Ct. Houston 77096  29.678406 -95.463344  \n",
       "267654            4724 Amalie St Houston  29.855152 -95.323505  \n",
       "267451   8015 Serenity Court Houston, TX  29.465968 -95.059361  \n",
       "267422        5400 Bayou Dr. Dickson, TX  29.694807 -95.422081  \n",
       "265192                3226 Ave G Houston  29.449427 -95.060967  "
      ]
     },
     "execution_count": 33,
     "metadata": {},
     "output_type": "execute_result"
    }
   ],
   "source": [
    "add_tweets.head()"
   ]
  },
  {
   "cell_type": "code",
   "execution_count": 8,
   "metadata": {},
   "outputs": [],
   "source": [
    "m = folium.Map(location=hou_coords, zoom_start=9)"
   ]
  },
  {
   "cell_type": "code",
   "execution_count": 9,
   "metadata": {},
   "outputs": [
    {
     "data": {
      "text/html": [
       "<div style=\"width:100%;\"><div style=\"position:relative;width:100%;height:0;padding-bottom:60%;\"><iframe src=\"data:text/html;charset=utf-8;base64,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\" style=\"position:absolute;width:100%;height:100%;left:0;top:0;border:none !important;\" allowfullscreen webkitallowfullscreen mozallowfullscreen></iframe></div></div>"
      ],
      "text/plain": [
       "<folium.folium.Map at 0x2c2a8fe0c88>"
      ]
     },
     "execution_count": 9,
     "metadata": {},
     "output_type": "execute_result"
    }
   ],
   "source": [
    "m"
   ]
  },
  {
   "cell_type": "code",
   "execution_count": 37,
   "metadata": {},
   "outputs": [
    {
     "data": {
      "text/html": [
       "<div style=\"width:100%;\"><div style=\"position:relative;width:100%;height:0;padding-bottom:60%;\"><iframe src=\"data:text/html;charset=utf-8;base64,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\" style=\"position:absolute;width:100%;height:100%;left:0;top:0;border:none !important;\" allowfullscreen webkitallowfullscreen mozallowfullscreen></iframe></div></div>"
      ],
      "text/plain": [
       "<folium.folium.Map at 0x2c2ab82ba90>"
      ]
     },
     "execution_count": 37,
     "metadata": {},
     "output_type": "execute_result"
    }
   ],
   "source": [
    "m = folium.Map(location=hou_coords, zoom_start=8)\n",
    "\n",
    "mc = MarkerCluster()\n",
    "\n",
    "for row in add_tweets[0: df.shape[0]].iterrows():\n",
    "    mc.add_child(folium.Marker(\n",
    "        location = [row[1]['lat'],row[1]['lon']], \n",
    "        clustered_marker = True,\n",
    "        popup = row[1]['tweet']))\n",
    "\n",
    "m.add_child(mc)\n",
    "\n",
    "\n",
    "m"
   ]
  }
 ],
 "metadata": {
  "kernelspec": {
   "display_name": "Python 3",
   "language": "python",
   "name": "python3"
  },
  "language_info": {
   "codemirror_mode": {
    "name": "ipython",
    "version": 3
   },
   "file_extension": ".py",
   "mimetype": "text/x-python",
   "name": "python",
   "nbconvert_exporter": "python",
   "pygments_lexer": "ipython3",
   "version": "3.7.1"
  }
 },
 "nbformat": 4,
 "nbformat_minor": 2
}
